{
  "cells": [
    {
      "cell_type": "code",
      "execution_count": null,
      "metadata": {
        "id": "SaAJk33ppFw1"
      },
      "outputs": [],
      "source": [
        "\n",
        "#@title Train LoRA\n",
        "from google.colab import drive\n",
        "drive.mount('/content/drive')\n",
        "\n",
        "!apt -y update -qq\n",
        "!wget http://launchpadlibrarian.net/367274644/libgoogle-perftools-dev_2.5-2.2ubuntu3_amd64.deb\n",
        "!wget https://launchpad.net/ubuntu/+source/google-perftools/2.5-2.2ubuntu3/+build/14795286/+files/google-perftools_2.5-2.2ubuntu3_all.deb\n",
        "!wget https://launchpad.net/ubuntu/+source/google-perftools/2.5-2.2ubuntu3/+build/14795286/+files/libtcmalloc-minimal4_2.5-2.2ubuntu3_amd64.deb\n",
        "!wget https://launchpad.net/ubuntu/+source/google-perftools/2.5-2.2ubuntu3/+build/14795286/+files/libgoogle-perftools4_2.5-2.2ubuntu3_amd64.deb\n",
        "!apt install -qq libunwind8-dev\n",
        "!dpkg -i *.deb\n",
        "%env LD_PRELOAD=libtcmalloc.so\n",
        "!rm *.deb\n",
        "\n",
        "!apt -y install -qq aria2\n",
        "!pip install torch==1.13.1+cu116 torchvision==0.14.1+cu116 torchaudio==0.13.1 torchtext==0.14.1 torchdata==0.5.1 --extra-index-url https://download.pytorch.org/whl/cu116 -U\n",
        "!pip install -q xformers==0.0.16 triton==2.0.0 -U\n",
        "\n",
        "!git clone https://github.com/camenduru/sd-scripts\n",
        "!sed -i -e 's/requests==2.28.2/# requests==2.28.2/' /content/sd-scripts/requirements.txt\n",
        "%cd /content/sd-scripts\n",
        "!pip install -q -r requirements.txt\n",
        "\n",
        "model_url = \"https://civitai.com/api/download/models/95489\" #@param {type:\"string\"}\n",
        "model_name = \"anyloraCheckpoint_bakedvaeBlessedFp16\" #@param {type:\"string\"}\n",
        "pretrained_model_name_or_path = f\"/content/model/{model_name}\"\n",
        "\n",
        "!mkdir /content/model\n",
        "!aria2c --console-log-level=error -c -x 16 -s 16 -k 1M \"{model_url}\" -d /content/model -o {model_name}\n",
        "\n",
        "root_path = \"/content/drive/MyDrive/MVC_HW\" #@param {type:\"string\"}\n",
        "instance_prompt = \"LoRA_dog\" #@param {type:\"string\"}\n",
        "images_path = f\"{root_path}/{instance_prompt}\"\n",
        "images_tags_json = f\"{images_path}/{instance_prompt}.json\"\n",
        "images_latents_json = f\"{images_path}/{instance_prompt}-latents.json\"\n",
        "output_dir = f\"content/drive/MyDrive/MVC_HW/{instance_prompt}\"\n",
        "max_train_steps = 1600 #@param {type:\"integer\"}\n",
        "\n",
        "!python -u finetune/tag_images_by_wd14_tagger.py {images_path} --repo_id SmilingWolf/wd-v1-4-convnext-tagger-v2 --model_dir wd14_tagger_model --thresh 0.35 --batch_size 1 --caption_extension .txt\n",
        "!python -u finetune/merge_dd_tags_to_metadata.py {images_path} {images_tags_json} --caption_extension .txt\n",
        "!python -u finetune/prepare_buckets_latents.py {images_path} {images_tags_json} {images_latents_json} {pretrained_model_name_or_path} --batch_size 1 --max_resolution 512,512 --min_bucket_reso 256 --max_bucket_reso 1024 --bucket_reso_steps 64 --mixed_precision no\n",
        "!python -u train_network.py --pretrained_model_name_or_path {pretrained_model_name_or_path} --train_data_dir {images_path} --in_json {images_latents_json} --output_dir {output_dir} --xformers --max_train_steps {max_train_steps} --use_8bit_adam --network_module networks.lora\n",
        "\n",
        "!mv {output_dir}/last.safetensors {output_dir}/{instance_prompt}.safetensors"
      ]
    },
    {
      "cell_type": "code",
      "source": [],
      "metadata": {
        "id": "gc6pUTSo6fnI"
      },
      "execution_count": null,
      "outputs": []
    }
  ],
  "metadata": {
    "accelerator": "GPU",
    "colab": {
      "private_outputs": true,
      "provenance": []
    },
    "gpuClass": "standard",
    "kernelspec": {
      "display_name": "Python 3",
      "name": "python3"
    },
    "language_info": {
      "name": "python"
    }
  },
  "nbformat": 4,
  "nbformat_minor": 0
}